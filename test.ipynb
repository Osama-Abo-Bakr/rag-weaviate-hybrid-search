{
 "cells": [
  {
   "cell_type": "code",
   "execution_count": null,
   "metadata": {},
   "outputs": [],
   "source": [
    "import os\n",
    "import weaviate\n",
    "from helper.Loading_data import load_files, load_data\n",
    "from helper.vector_store import adding_vector_db\n",
    "\n",
    "path = \"./data\"\n",
    "file_paths = [os.path.join(path, file_path) for file_path in os.listdir(path)]\n",
    "\n",
    "text_data = load_files(file_paths[:2])\n",
    "doc = load_data(text_data)\n",
    "\n",
    "user_id = \"100\"\n",
    "project_id = \"RAG\"\n",
    "vector_store_id=\"UserID_{}_ProjectID_{}\".format(user_id, project_id)\n",
    "\n",
    "adding_vector_db(vector_store_id=vector_store_id, documents=doc)\n",
    "\n",
    "client = weaviate.connect_to_local()\n",
    "print(client.collections.exists(vector_store_id))\n",
    "client.close()"
   ]
  },
  {
   "cell_type": "code",
   "execution_count": null,
   "metadata": {},
   "outputs": [],
   "source": []
  },
  {
   "cell_type": "code",
   "execution_count": null,
   "metadata": {},
   "outputs": [],
   "source": [
    "# import weaviate\n",
    "\n",
    "# # Connect to Weaviate\n",
    "# client = weaviate.connect_to_local()\n",
    "\n",
    "# user_id = \"100\"\n",
    "# project_id = \"RAG\"\n",
    "# vector_store_id=\"UserID_{}_ProjectID_{}\".format(user_id, project_id)\n",
    "\n",
    "# # Fetch objects from the collection\n",
    "# collection = client.collections.create(vector_store_id)\n",
    "\n",
    "# # Close connection\n",
    "# client.close()"
   ]
  },
  {
   "cell_type": "code",
   "execution_count": null,
   "metadata": {},
   "outputs": [],
   "source": [
    "import weaviate\n",
    "client = weaviate.connect_to_local()\n",
    "\n",
    "user_id = \"100\"\n",
    "project_id = \"RAG\"\n",
    "vector_store_id=\"UserID_{}_ProjectID_{}\".format(user_id, project_id)\n",
    "\n",
    "print(client.collections.exists(vector_store_id))\n",
    "client.close()"
   ]
  },
  {
   "cell_type": "code",
   "execution_count": null,
   "metadata": {},
   "outputs": [],
   "source": []
  },
  {
   "cell_type": "code",
   "execution_count": null,
   "metadata": {},
   "outputs": [],
   "source": [
    "import weaviate\n",
    "\n",
    "# Connect to Weaviate\n",
    "client = weaviate.connect_to_local()\n",
    "\n",
    "# Fetch all collections (indexes)\n",
    "collections = client.collections.list_all()\n",
    "num_collections = len(collections)\n",
    "\n",
    "print(f\"Total Number of Indexes (Collections): {num_collections}\")\n",
    "\n",
    "# Close connection\n",
    "client.close()"
   ]
  },
  {
   "cell_type": "code",
   "execution_count": null,
   "metadata": {},
   "outputs": [],
   "source": []
  },
  {
   "cell_type": "code",
   "execution_count": null,
   "metadata": {},
   "outputs": [],
   "source": [
    "# import weaviate\n",
    "# from helper.vector_store import  delete_vector_db\n",
    "\n",
    "# client = weaviate.connect_to_local()\n",
    "# print(client.collections.delete_all())\n",
    "# # print(client.collections.exists(vector_store_id))\n",
    "# client.close()"
   ]
  },
  {
   "cell_type": "code",
   "execution_count": null,
   "metadata": {},
   "outputs": [],
   "source": []
  },
  {
   "cell_type": "code",
   "execution_count": null,
   "metadata": {},
   "outputs": [],
   "source": [
    "user_id = \"100\"\n",
    "project_id = \"RAG\"\n",
    "vector_store_id=\"UserID_{}_ProjectID_{}\".format(user_id, project_id)"
   ]
  },
  {
   "cell_type": "code",
   "execution_count": null,
   "metadata": {},
   "outputs": [],
   "source": [
    "vector_store_id"
   ]
  },
  {
   "cell_type": "code",
   "execution_count": null,
   "metadata": {},
   "outputs": [],
   "source": [
    "vector_store_id.split(\"_\")"
   ]
  },
  {
   "cell_type": "code",
   "execution_count": null,
   "metadata": {},
   "outputs": [],
   "source": [
    "from helper.db_connection import get_chat_history\n",
    "\n",
    "get_chat_history(vector_id=vector_store_id)"
   ]
  },
  {
   "cell_type": "code",
   "execution_count": null,
   "metadata": {},
   "outputs": [],
   "source": [
    "from helper.full_chain import get_response\n",
    "\n",
    "response = get_response(\n",
    "    question=\"what is the authors of attention is all you need\", vector_store_id=vector_store_id, user_id=user_id, project_id=project_id\n",
    ")\n",
    "\n",
    "response\n",
    "\n",
    "\n",
    "# from helper.full_chain import get_response\n",
    "\n",
    "# response = get_response(\n",
    "#     question=\"hi\", vector_store_id=vector_store_id, user_id=user_id, project_id=project_id\n",
    "# )\n",
    "\n",
    "# response\n",
    "\n",
    "\n"
   ]
  },
  {
   "cell_type": "code",
   "execution_count": null,
   "metadata": {},
   "outputs": [],
   "source": [
    "print(response[\"answer\"])"
   ]
  },
  {
   "cell_type": "code",
   "execution_count": null,
   "metadata": {},
   "outputs": [],
   "source": [
    "# for doc in response['source_documents']:\n",
    "#     print(doc.page_content)\n",
    "#     print(\"-----------------------------------\")"
   ]
  },
  {
   "cell_type": "code",
   "execution_count": null,
   "metadata": {},
   "outputs": [],
   "source": []
  },
  {
   "cell_type": "code",
   "execution_count": null,
   "metadata": {},
   "outputs": [],
   "source": [
    "import weaviate\n",
    "\n",
    "# Connect to Weaviate\n",
    "client = weaviate.connect_to_local()\n",
    "\n",
    "# Define index name\n",
    "vector_store_id=\"100_rag\"\n",
    "\n",
    "# Fetch objects from the collection\n",
    "collection = client.collections.create(vector_store_id)\n",
    "\n",
    "# Close connection\n",
    "client.close()"
   ]
  },
  {
   "cell_type": "code",
   "execution_count": null,
   "metadata": {},
   "outputs": [],
   "source": [
    "import weaviate\n",
    "\n",
    "# Connect to Weaviate\n",
    "client = weaviate.connect_to_local()\n",
    "\n",
    "# Define index name\n",
    "index_name = \"osama\"\n",
    "\n",
    "# Fetch objects from the collection\n",
    "collection = client.collections.get(index_name)\n",
    "objects = collection.query.fetch_objects(limit=5000).objects\n",
    "\n",
    "print(f\"Total Number of Objects in the Collection: {len(objects)}\")\n",
    "\n",
    "# # Print the retrieved objects\n",
    "# for obj in objects:\n",
    "#     print(obj.properties)\n",
    "\n",
    "# Close connection\n",
    "client.close()"
   ]
  },
  {
   "cell_type": "code",
   "execution_count": null,
   "metadata": {},
   "outputs": [],
   "source": []
  },
  {
   "cell_type": "code",
   "execution_count": null,
   "metadata": {},
   "outputs": [],
   "source": []
  },
  {
   "cell_type": "code",
   "execution_count": null,
   "metadata": {},
   "outputs": [],
   "source": [
    "from helper.db_connection import *\n",
    "\n",
    "\n",
    "def test_database_functions():\n",
    "    \"\"\"\n",
    "    Run a full test cycle of database functions.\n",
    "    \"\"\"\n",
    "    print(\"\\n🔄 Running Database Function Tests...\\n\")\n",
    "    \n",
    "    # Step 1: Create Table\n",
    "    print(\"🛠 Creating Table...\")\n",
    "    create_chat_history_table()\n",
    "\n",
    "    # Step 2: Insert Sample Data\n",
    "    print(\"📥 Inserting Sample Data...\")\n",
    "    test_user_query = \"Hello, how are you?\"\n",
    "    test_chatbot_answer = \"I'm a bot, and I'm doing great!\"\n",
    "    test_user_id = \"user_123\"\n",
    "    test_project_id = \"proj_456\"\n",
    "    test_vector_id = \"vec_789\"\n",
    "\n",
    "    save_chat_history(test_user_query, test_chatbot_answer, test_user_id, test_project_id, test_vector_id)\n",
    "\n",
    "    # Step 3: Retrieve Data\n",
    "    print(\"📤 Retrieving Data...\")\n",
    "    chat_history = get_chat_history(test_vector_id)\n",
    "\n",
    "    if chat_history:\n",
    "        print(\"✅ Retrieved Chat History:\")\n",
    "        for idx, (query, answer) in enumerate(chat_history, start=1):\n",
    "            print(f\"{idx}. User: {query} | Bot: {answer}\")\n",
    "    else:\n",
    "        print(\"❌ No chat history found!\")\n",
    "\n",
    "    # Step 4: Delete Table (Cleanup)\n",
    "    print(\"🗑 Deleting Table...\")\n",
    "    delete_chat_history_table()\n",
    "\n",
    "    print(\"\\n✅ All tests completed!\\n\")\n"
   ]
  },
  {
   "cell_type": "code",
   "execution_count": null,
   "metadata": {},
   "outputs": [],
   "source": [
    "# Run Tests\n",
    "test_database_functions()"
   ]
  },
  {
   "cell_type": "code",
   "execution_count": null,
   "metadata": {},
   "outputs": [],
   "source": []
  },
  {
   "cell_type": "code",
   "execution_count": null,
   "metadata": {},
   "outputs": [],
   "source": [
    "from helper.db_connection import create_chat_history_table\n",
    "\n",
    "# Step 1: Create Table\n",
    "print(\"🛠 Creating Table...\")\n",
    "create_chat_history_table()"
   ]
  },
  {
   "cell_type": "code",
   "execution_count": null,
   "metadata": {},
   "outputs": [],
   "source": [
    "from helper.db_connection import delete_chat_history_table\n",
    "\n",
    "# Step 4: Delete Table (Cleanup)\n",
    "print(\"🗑 Deleting Table...\")\n",
    "delete_chat_history_table()"
   ]
  }
 ],
 "metadata": {
  "kernelspec": {
   "display_name": "Tarek-RAG",
   "language": "python",
   "name": "python3"
  },
  "language_info": {
   "codemirror_mode": {
    "name": "ipython",
    "version": 3
   },
   "file_extension": ".py",
   "mimetype": "text/x-python",
   "name": "python",
   "nbconvert_exporter": "python",
   "pygments_lexer": "ipython3",
   "version": "3.11.11"
  }
 },
 "nbformat": 4,
 "nbformat_minor": 2
}
